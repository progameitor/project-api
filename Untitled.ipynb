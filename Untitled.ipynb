{
 "cells": [
  {
   "cell_type": "code",
   "execution_count": 111,
   "metadata": {},
   "outputs": [],
   "source": [
    "from pymongo import MongoClient\n",
    "import getpass\n",
    "import json\n",
    "import pandas as pd\n",
    "from dotenv import load_dotenv\n",
    "import os\n",
    "from bson.json_util import dumps\n",
    "import json\n",
    "import dns\n",
    "import requests\n",
    "load_dotenv()\n",
    "url = os.getenv(\"URLMONGO\")\n",
    "\n",
    "from textblob import TextBlob"
   ]
  },
  {
   "cell_type": "code",
   "execution_count": 208,
   "metadata": {},
   "outputs": [],
   "source": [
    "client = MongoClient(url)\n",
    "def connectCollection(database, collection):\n",
    "    db = client[database]\n",
    "    coll = db[collection]\n",
    "    return db, coll"
   ]
  },
  {
   "cell_type": "code",
   "execution_count": 209,
   "metadata": {},
   "outputs": [
    {
     "data": {
      "text/plain": [
       "[{'_id': ObjectId('5de2976c7a9fb0b9678bea7d'),\n",
       "  'idUser': 0,\n",
       "  'userName': 'John Wick',\n",
       "  'idMessage': 0,\n",
       "  'idChat': 0,\n",
       "  'datetime': '2019-10-17 10:15:41',\n",
       "  'text': 'Hey Mike, whats up??'},\n",
       " {'_id': ObjectId('5de2976c7a9fb0b9678bea7e'),\n",
       "  'idUser': 1,\n",
       "  'userName': 'Mike Wazowski',\n",
       "  'idMessage': 1,\n",
       "  'idChat': 0,\n",
       "  'datetime': '2019-10-17 10:16:59',\n",
       "  'text': 'Dude!!! 😀️ Did you watch the game last night?'},\n",
       " {'_id': ObjectId('5de2976c7a9fb0b9678bea7f'),\n",
       "  'idUser': 0,\n",
       "  'userName': 'John Wick',\n",
       "  'idMessage': 2,\n",
       "  'idChat': 0,\n",
       "  'datetime': '2019-10-17 10:17:31',\n",
       "  'text': 'No, had to work. How was it?'},\n",
       " {'_id': ObjectId('5de2976c7a9fb0b9678bea80'),\n",
       "  'idUser': 1,\n",
       "  'userName': 'Mike Wazowski',\n",
       "  'idMessage': 3,\n",
       "  'idChat': 0,\n",
       "  'datetime': '2019-10-17 10:18:41',\n",
       "  'text': 'Awesome! Boyander scored 3 goals!'},\n",
       " {'_id': ObjectId('5de2976c7a9fb0b9678bea81'),\n",
       "  'idUser': 0,\n",
       "  'userName': 'John Wick',\n",
       "  'idMessage': 4,\n",
       "  'idChat': 0,\n",
       "  'datetime': '2019-10-17 10:19:41',\n",
       "  'text': 'No way! 😮️'},\n",
       " {'_id': ObjectId('5de2976c7a9fb0b9678bea82'),\n",
       "  'idUser': 1,\n",
       "  'userName': 'Mike Wazowski',\n",
       "  'idMessage': 5,\n",
       "  'idChat': 0,\n",
       "  'datetime': '2019-10-17 10:20:41',\n",
       "  'text': 'Way...'},\n",
       " {'_id': ObjectId('5de2976c7a9fb0b9678bea83'),\n",
       "  'idUser': 0,\n",
       "  'userName': 'John Wick',\n",
       "  'idMessage': 6,\n",
       "  'idChat': 0,\n",
       "  'datetime': '2019-10-17 10:21:41',\n",
       "  'text': 'I bet people went crazy'},\n",
       " {'_id': ObjectId('5de2976c7a9fb0b9678bea84'),\n",
       "  'idUser': 1,\n",
       "  'userName': 'Mike Wazowski',\n",
       "  'idMessage': 7,\n",
       "  'idChat': 0,\n",
       "  'datetime': '2019-10-17 10:22:41',\n",
       "  'text': 'For sure. We stayed at KuboLoco until 6AM.'},\n",
       " {'_id': ObjectId('5de2976c7a9fb0b9678bea85'),\n",
       "  'idUser': 0,\n",
       "  'userName': 'John Wick',\n",
       "  'idMessage': 8,\n",
       "  'idChat': 0,\n",
       "  'datetime': '2019-10-17 10:23:41',\n",
       "  'text': 'Motherfucker! Hungover? 😵️'},\n",
       " {'_id': ObjectId('5de2976c7a9fb0b9678bea86'),\n",
       "  'idUser': 1,\n",
       "  'userName': 'Mike Wazowski',\n",
       "  'idMessage': 9,\n",
       "  'idChat': 0,\n",
       "  'datetime': '2019-10-17 10:24:41',\n",
       "  'text': 'Dead, burried and still suffering! 🤮️'},\n",
       " {'_id': ObjectId('5de2976c7a9fb0b9678bea87'),\n",
       "  'idUser': 2,\n",
       "  'userName': 'Leia Organa',\n",
       "  'idMessage': 10,\n",
       "  'idChat': 1,\n",
       "  'datetime': '2019-10-18 10:15:41',\n",
       "  'text': 'Im so angry right now!'},\n",
       " {'_id': ObjectId('5de2976c7a9fb0b9678bea88'),\n",
       "  'idUser': 3,\n",
       "  'userName': 'Tony Stark',\n",
       "  'idMessage': 11,\n",
       "  'idChat': 1,\n",
       "  'datetime': '2019-10-18 10:16:41',\n",
       "  'text': 'I saw you this morning. You shouldnt get so upset. ❤️'},\n",
       " {'_id': ObjectId('5de2976c7a9fb0b9678bea89'),\n",
       "  'idUser': 2,\n",
       "  'userName': 'Leia Organa',\n",
       "  'idMessage': 12,\n",
       "  'idChat': 1,\n",
       "  'datetime': '2019-10-18 10:17:41',\n",
       "  'text': 'Impossible! Cant do it! Just cant! He pissed me off so much.'},\n",
       " {'_id': ObjectId('5de2976c7a9fb0b9678bea8a'),\n",
       "  'idUser': 3,\n",
       "  'userName': 'Tony Stark',\n",
       "  'idMessage': 13,\n",
       "  'idChat': 1,\n",
       "  'datetime': '2019-10-18 10:18:41',\n",
       "  'text': 'Dont get so frustrated, Leia. Remember what German said.'},\n",
       " {'_id': ObjectId('5de2976c7a9fb0b9678bea8b'),\n",
       "  'idUser': 2,\n",
       "  'userName': 'Leia Organa',\n",
       "  'idMessage': 14,\n",
       "  'idChat': 1,\n",
       "  'datetime': '2019-10-18 10:19:41',\n",
       "  'text': 'But how am I suposed to fix the facial recognition system if it doesnt even work?'},\n",
       " {'_id': ObjectId('5de2976c7a9fb0b9678bea8c'),\n",
       "  'idUser': 3,\n",
       "  'userName': 'Tony Stark',\n",
       "  'idMessage': 15,\n",
       "  'idChat': 1,\n",
       "  'datetime': '2019-10-18 10:20:41',\n",
       "  'text': 'Im sure you will find a way.'},\n",
       " {'_id': ObjectId('5de2976c7a9fb0b9678bea8d'),\n",
       "  'idUser': 2,\n",
       "  'userName': 'Leia Organa',\n",
       "  'idMessage': 16,\n",
       "  'idChat': 1,\n",
       "  'datetime': '2019-10-18 10:21:41',\n",
       "  'text': 'And who the hell is Tony? 🤯️'},\n",
       " {'_id': ObjectId('5de2976c7a9fb0b9678bea8e'),\n",
       "  'idUser': 3,\n",
       "  'userName': 'Tony Stark',\n",
       "  'idMessage': 17,\n",
       "  'idChat': 1,\n",
       "  'datetime': '2019-10-18 10:22:41',\n",
       "  'text': 'I am Iron Man'},\n",
       " {'_id': ObjectId('5de2976c7a9fb0b9678bea8f'),\n",
       "  'idUser': 2,\n",
       "  'userName': 'Leia Organa',\n",
       "  'idMessage': 18,\n",
       "  'idChat': 1,\n",
       "  'datetime': '2019-10-18 10:23:41',\n",
       "  'text': 'Oh shit. I think youre friends with my brother.'},\n",
       " {'_id': ObjectId('5de2976c7a9fb0b9678bea90'),\n",
       "  'idUser': 3,\n",
       "  'userName': 'Tony Stark',\n",
       "  'idMessage': 19,\n",
       "  'idChat': 1,\n",
       "  'datetime': '2019-10-18 10:24:41',\n",
       "  'text': 'Uh-Oh. Better fix that quickly.'},\n",
       " {'_id': ObjectId('5de2976c7a9fb0b9678bea91'),\n",
       "  'idUser': 1,\n",
       "  'userName': 'Mike Wazowski',\n",
       "  'idMessage': 20,\n",
       "  'idChat': 2,\n",
       "  'datetime': '2019-10-19 10:15:41',\n",
       "  'text': 'Sweety pie! How Ive longed to talk to you.'},\n",
       " {'_id': ObjectId('5de2976c7a9fb0b9678bea92'),\n",
       "  'idUser': 4,\n",
       "  'userName': 'Ellen Ripley',\n",
       "  'idMessage': 21,\n",
       "  'idChat': 2,\n",
       "  'datetime': '2019-10-19 10:16:41',\n",
       "  'text': 'Not again, Michael.... 😒️'},\n",
       " {'_id': ObjectId('5de2976c7a9fb0b9678bea93'),\n",
       "  'idUser': 1,\n",
       "  'userName': 'Mike Wazowski',\n",
       "  'idMessage': 22,\n",
       "  'idChat': 2,\n",
       "  'datetime': '2019-10-19 10:17:41',\n",
       "  'text': 'Its Mike, honey bunny. Or doctor LOVE! And youre a sick little girl.'},\n",
       " {'_id': ObjectId('5de2976c7a9fb0b9678bea94'),\n",
       "  'idUser': 4,\n",
       "  'userName': 'Ellen Ripley',\n",
       "  'idMessage': 23,\n",
       "  'idChat': 2,\n",
       "  'datetime': '2019-10-19 10:18:41',\n",
       "  'text': 'Im gonna report you to Human Resources again, Michael.'},\n",
       " {'_id': ObjectId('5de2976c7a9fb0b9678bea95'),\n",
       "  'idUser': 1,\n",
       "  'userName': 'Mike Wazowski',\n",
       "  'idMessage': 24,\n",
       "  'idChat': 2,\n",
       "  'datetime': '2019-10-19 10:19:41',\n",
       "  'text': 'Cant handle me on your own?'},\n",
       " {'_id': ObjectId('5de2976c7a9fb0b9678bea96'),\n",
       "  'idUser': 4,\n",
       "  'userName': 'Ellen Ripley',\n",
       "  'idMessage': 25,\n",
       "  'idChat': 2,\n",
       "  'datetime': '2019-10-19 10:20:41',\n",
       "  'text': 'Id rather have a fucking alien crawling out of my ass'},\n",
       " {'_id': ObjectId('5de2976c7a9fb0b9678bea97'),\n",
       "  'idUser': 1,\n",
       "  'userName': 'Mike Wazowski',\n",
       "  'idMessage': 26,\n",
       "  'idChat': 2,\n",
       "  'datetime': '2019-10-19 10:21:41',\n",
       "  'text': 'That would be hot... 🔥️'},\n",
       " {'_id': ObjectId('5de2976c7a9fb0b9678bea98'),\n",
       "  'idUser': 4,\n",
       "  'userName': 'Ellen Ripley',\n",
       "  'idMessage': 27,\n",
       "  'idChat': 2,\n",
       "  'datetime': '2019-10-19 10:22:41',\n",
       "  'text': 'Ok, youve got to stop drinking! Im calling HR.'},\n",
       " {'_id': ObjectId('5de2976c7a9fb0b9678bea99'),\n",
       "  'idUser': 1,\n",
       "  'userName': 'Mike Wazowski',\n",
       "  'idMessage': 28,\n",
       "  'idChat': 2,\n",
       "  'datetime': '2019-10-19 10:23:41',\n",
       "  'text': 'I NEED VODKA LIKE A CAR NEEDS GAS'},\n",
       " {'_id': ObjectId('5de2976c7a9fb0b9678bea9a'),\n",
       "  'idUser': 4,\n",
       "  'userName': 'Ellen Ripley',\n",
       "  'idMessage': 29,\n",
       "  'idChat': 2,\n",
       "  'datetime': '2019-10-19 10:24:41',\n",
       "  'text': 'Dude... Alcoholics Anonymous: https://www.aa.org'},\n",
       " {'_id': ObjectId('5de2976c7a9fb0b9678bea9b'),\n",
       "  'idUser': 5,\n",
       "  'userName': 'J. Jonah Jameson',\n",
       "  'idMessage': 30,\n",
       "  'idChat': 3,\n",
       "  'datetime': '2019-10-20 10:15:41',\n",
       "  'text': 'I want pictures of Spiderman and I want them now!'},\n",
       " {'_id': ObjectId('5de2976c7a9fb0b9678bea9c'),\n",
       "  'idUser': 0,\n",
       "  'userName': 'John Wick',\n",
       "  'idMessage': 31,\n",
       "  'idChat': 3,\n",
       "  'datetime': '2019-10-20 10:16:41',\n",
       "  'text': 'Sure, boss.'},\n",
       " {'_id': ObjectId('5de2976c7a9fb0b9678bea9d'),\n",
       "  'idUser': 5,\n",
       "  'userName': 'J. Jonah Jameson',\n",
       "  'idMessage': 32,\n",
       "  'idChat': 3,\n",
       "  'datetime': '2019-10-20 10:17:41',\n",
       "  'text': 'Youve got to take me seriously.'},\n",
       " {'_id': ObjectId('5de2976c7a9fb0b9678bea9e'),\n",
       "  'idUser': 0,\n",
       "  'userName': 'John Wick',\n",
       "  'idMessage': 33,\n",
       "  'idChat': 3,\n",
       "  'datetime': '2019-10-20 10:18:41',\n",
       "  'text': 'I do! I just dont feel appreciated in my job'},\n",
       " {'_id': ObjectId('5de2976c7a9fb0b9678bea9f'),\n",
       "  'idUser': 5,\n",
       "  'userName': 'J. Jonah Jameson',\n",
       "  'idMessage': 34,\n",
       "  'idChat': 3,\n",
       "  'datetime': '2019-10-20 10:19:41',\n",
       "  'text': 'Thats why youve got to get those damm pictures!!'},\n",
       " {'_id': ObjectId('5de2976c7a9fb0b9678beaa0'),\n",
       "  'idUser': 0,\n",
       "  'userName': 'John Wick',\n",
       "  'idMessage': 35,\n",
       "  'idChat': 3,\n",
       "  'datetime': '2019-10-20 10:20:41',\n",
       "  'text': 'I dunno...'},\n",
       " {'_id': ObjectId('5de2976c7a9fb0b9678beaa1'),\n",
       "  'idUser': 5,\n",
       "  'userName': 'J. Jonah Jameson',\n",
       "  'idMessage': 36,\n",
       "  'idChat': 3,\n",
       "  'datetime': '2019-10-20 10:21:41',\n",
       "  'text': 'Get the god damn motherfucking fuckity fuck bloody ballsack pictures'},\n",
       " {'_id': ObjectId('5de2976c7a9fb0b9678beaa2'),\n",
       "  'idUser': 0,\n",
       "  'userName': 'John Wick',\n",
       "  'idMessage': 37,\n",
       "  'idChat': 3,\n",
       "  'datetime': '2019-10-20 10:22:41',\n",
       "  'text': 'Maybe'},\n",
       " {'_id': ObjectId('5de2976c7a9fb0b9678beaa3'),\n",
       "  'idUser': 5,\n",
       "  'userName': 'J. Jonah Jameson',\n",
       "  'idMessage': 38,\n",
       "  'idChat': 3,\n",
       "  'datetime': '2019-10-20 10:23:41',\n",
       "  'text': 'Youve got to! And I believe in you'},\n",
       " {'_id': ObjectId('5de2976c7a9fb0b9678beaa4'),\n",
       "  'idUser': 0,\n",
       "  'userName': 'John Wick',\n",
       "  'idMessage': 39,\n",
       "  'idChat': 3,\n",
       "  'datetime': '2019-10-20 10:24:41',\n",
       "  'text': 'Thank you, boss! I feel much better...'},\n",
       " {'_id': ObjectId('5de2976c7a9fb0b9678beaa5'),\n",
       "  'idUser': 6,\n",
       "  'userName': 'Danny Torrances Finger',\n",
       "  'idMessage': 40,\n",
       "  'idChat': 4,\n",
       "  'datetime': '2019-10-21 10:15:41',\n",
       "  'text': 'REDRUM'},\n",
       " {'_id': ObjectId('5de2976c7a9fb0b9678beaa6'),\n",
       "  'idUser': 7,\n",
       "  'userName': 'Danny Torrance',\n",
       "  'idMessage': 41,\n",
       "  'idChat': 4,\n",
       "  'datetime': '2019-10-21 10:16:41',\n",
       "  'text': 'What was that?'},\n",
       " {'_id': ObjectId('5de2976c7a9fb0b9678beaa7'),\n",
       "  'idUser': 6,\n",
       "  'userName': 'Danny Torrances Finger',\n",
       "  'idMessage': 42,\n",
       "  'idChat': 4,\n",
       "  'datetime': '2019-10-21 10:17:41',\n",
       "  'text': 'REDRUM REDRUM REDRUM'},\n",
       " {'_id': ObjectId('5de2976c7a9fb0b9678beaa8'),\n",
       "  'idUser': 7,\n",
       "  'userName': 'Danny Torrance',\n",
       "  'idMessage': 43,\n",
       "  'idChat': 4,\n",
       "  'datetime': '2019-10-21 10:18:41',\n",
       "  'text': 'Did you mean red room? Id love a red room.'},\n",
       " {'_id': ObjectId('5de2976c7a9fb0b9678beaa9'),\n",
       "  'idUser': 6,\n",
       "  'userName': 'Danny Torrances Finger',\n",
       "  'idMessage': 44,\n",
       "  'idChat': 4,\n",
       "  'datetime': '2019-10-21 10:19:41',\n",
       "  'text': 'Murder, bro, cold blooded splashy murderous fun'},\n",
       " {'_id': ObjectId('5de2976c7a9fb0b9678beaaa'),\n",
       "  'idUser': 7,\n",
       "  'userName': 'Danny Torrance',\n",
       "  'idMessage': 45,\n",
       "  'idChat': 4,\n",
       "  'datetime': '2019-10-21 10:20:41',\n",
       "  'text': 'Chill out, pinky.. Its such a nice day'},\n",
       " {'_id': ObjectId('5de2976c7a9fb0b9678beaab'),\n",
       "  'idUser': 6,\n",
       "  'userName': 'Danny Torrances Finger',\n",
       "  'idMessage': 46,\n",
       "  'idChat': 4,\n",
       "  'datetime': '2019-10-21 10:21:41',\n",
       "  'text': 'A nice day to create havoc!'},\n",
       " {'_id': ObjectId('5de2976c7a9fb0b9678beaac'),\n",
       "  'idUser': 7,\n",
       "  'userName': 'Danny Torrance',\n",
       "  'idMessage': 47,\n",
       "  'idChat': 4,\n",
       "  'datetime': '2019-10-21 10:22:41',\n",
       "  'text': 'Ill go for a walk in the park, I guess. Maybe fishing'},\n",
       " {'_id': ObjectId('5de2976c7a9fb0b9678beaad'),\n",
       "  'idUser': 6,\n",
       "  'userName': 'Danny Torrances Finger',\n",
       "  'idMessage': 48,\n",
       "  'idChat': 4,\n",
       "  'datetime': '2019-10-21 10:23:41',\n",
       "  'text': 'Fishing sounds good. What about the labyrinth?'},\n",
       " {'_id': ObjectId('5de2976c7a9fb0b9678beaae'),\n",
       "  'idUser': 7,\n",
       "  'userName': 'Danny Torrance',\n",
       "  'idMessage': 49,\n",
       "  'idChat': 4,\n",
       "  'datetime': '2019-10-21 10:24:41',\n",
       "  'text': 'No! That places creeps me out..'},\n",
       " {'_id': ObjectId('5de3d4e81503321ef9923f01'),\n",
       "  'idUser': 9,\n",
       "  'userName': 'juanito'}]"
      ]
     },
     "execution_count": 209,
     "metadata": {},
     "output_type": "execute_result"
    }
   ],
   "source": [
    "#es capaz de hacerme consultas a la api. Algo es algo\n",
    "\n",
    "db, coll = connectCollection('chats','chateo')\n",
    "\n",
    "'''with open('chats.json') as f:\n",
    "    chats_json = json.load(f)\n",
    "coll.find(messages_json)'''\n",
    "data= list(coll.find({}))\n",
    "data"
   ]
  },
  {
   "cell_type": "code",
   "execution_count": 114,
   "metadata": {},
   "outputs": [
    {
     "data": {
      "text/plain": [
       "<Response [200]>"
      ]
     },
     "execution_count": 114,
     "metadata": {},
     "output_type": "execute_result"
    }
   ],
   "source": [
    "#crear un nuevo usuario\n",
    "from bson.json_util import dumps\n",
    "import json\n",
    "import dns\n",
    "import requests\n",
    "\n",
    "\n",
    "new = {\"name\": \"joaquin\"}\n",
    "requests.post(\"http://localhost:9090/user/create\", data=new)"
   ]
  },
  {
   "cell_type": "code",
   "execution_count": 124,
   "metadata": {},
   "outputs": [
    {
     "data": {
      "text/plain": [
       "<Response [200]>"
      ]
     },
     "execution_count": 124,
     "metadata": {},
     "output_type": "execute_result"
    }
   ],
   "source": [
    "#crear un nuevo chat an array of users id esta no me sale\n",
    "\n",
    "\n",
    "new_chat = {\"name\": \"chat_created\"}\n",
    "requests.post(\"http://localhost:9090/chat/create\", data=new_chat)"
   ]
  },
  {
   "cell_type": "code",
   "execution_count": 116,
   "metadata": {},
   "outputs": [],
   "source": [
    "def newChat():\n",
    "    new_id= max(request.forms.get(\"id_Chat\")) + 1\n",
    "    name = str(request.forms.get(\"name\", f\"chat_id{new_id}\"))\n",
    "    new_chat=  {\n",
    "        \"id_Chat\": new_id,\n",
    "        \"name\": name\n",
    "    }\n",
    "    collection.insert_one(new_chat)\n",
    "    print(\"Chat created\")"
   ]
  },
  {
   "cell_type": "code",
   "execution_count": 117,
   "metadata": {},
   "outputs": [
    {
     "ename": "NameError",
     "evalue": "name 'request' is not defined",
     "output_type": "error",
     "traceback": [
      "\u001b[0;31m---------------------------------------------------------------------------\u001b[0m",
      "\u001b[0;31mNameError\u001b[0m                                 Traceback (most recent call last)",
      "\u001b[0;32m<ipython-input-117-116ebfbd9abf>\u001b[0m in \u001b[0;36m<module>\u001b[0;34m\u001b[0m\n\u001b[0;32m----> 1\u001b[0;31m \u001b[0;34m(\u001b[0m\u001b[0mnewChat\u001b[0m\u001b[0;34m(\u001b[0m\u001b[0;34m)\u001b[0m\u001b[0;34m)\u001b[0m\u001b[0;34m\u001b[0m\u001b[0;34m\u001b[0m\u001b[0m\n\u001b[0m",
      "\u001b[0;32m<ipython-input-116-d2b0754d2494>\u001b[0m in \u001b[0;36mnewChat\u001b[0;34m()\u001b[0m\n\u001b[1;32m      1\u001b[0m \u001b[0;32mdef\u001b[0m \u001b[0mnewChat\u001b[0m\u001b[0;34m(\u001b[0m\u001b[0;34m)\u001b[0m\u001b[0;34m:\u001b[0m\u001b[0;34m\u001b[0m\u001b[0;34m\u001b[0m\u001b[0m\n\u001b[0;32m----> 2\u001b[0;31m     \u001b[0mnew_id\u001b[0m\u001b[0;34m=\u001b[0m \u001b[0mmax\u001b[0m\u001b[0;34m(\u001b[0m\u001b[0mrequest\u001b[0m\u001b[0;34m.\u001b[0m\u001b[0mforms\u001b[0m\u001b[0;34m.\u001b[0m\u001b[0mget\u001b[0m\u001b[0;34m(\u001b[0m\u001b[0;34m\"id_Chat\"\u001b[0m\u001b[0;34m)\u001b[0m\u001b[0;34m)\u001b[0m \u001b[0;34m+\u001b[0m \u001b[0;36m1\u001b[0m\u001b[0;34m\u001b[0m\u001b[0;34m\u001b[0m\u001b[0m\n\u001b[0m\u001b[1;32m      3\u001b[0m     \u001b[0mname\u001b[0m \u001b[0;34m=\u001b[0m \u001b[0mstr\u001b[0m\u001b[0;34m(\u001b[0m\u001b[0mrequest\u001b[0m\u001b[0;34m.\u001b[0m\u001b[0mforms\u001b[0m\u001b[0;34m.\u001b[0m\u001b[0mget\u001b[0m\u001b[0;34m(\u001b[0m\u001b[0;34m\"name\"\u001b[0m\u001b[0;34m,\u001b[0m \u001b[0;34mf\"chat_id{new_id}\"\u001b[0m\u001b[0;34m)\u001b[0m\u001b[0;34m)\u001b[0m\u001b[0;34m\u001b[0m\u001b[0;34m\u001b[0m\u001b[0m\n\u001b[1;32m      4\u001b[0m     new_chat=  {\n\u001b[1;32m      5\u001b[0m         \u001b[0;34m\"id_Chat\"\u001b[0m\u001b[0;34m:\u001b[0m \u001b[0mnew_id\u001b[0m\u001b[0;34m,\u001b[0m\u001b[0;34m\u001b[0m\u001b[0;34m\u001b[0m\u001b[0m\n",
      "\u001b[0;31mNameError\u001b[0m: name 'request' is not defined"
     ]
    }
   ],
   "source": [
    "(newChat())"
   ]
  },
  {
   "cell_type": "code",
   "execution_count": 123,
   "metadata": {},
   "outputs": [],
   "source": [
    "# pedir todos los usuarios de la peticion\n",
    "def getUsers():\n",
    "    all_users=dumps(coll.find().distinct(\"userName\"))\n",
    "    return all_users"
   ]
  },
  {
   "cell_type": "code",
   "execution_count": 124,
   "metadata": {},
   "outputs": [
    {
     "data": {
      "text/plain": [
       "'[\"John Wick\", \"Mike Wazowski\", \"Leia Organa\", \"Tony Stark\", \"Ellen Ripley\", \"J. Jonah Jameson\", \"Danny Torrances Finger\", \"Danny Torrance\", \"pepito\", \"juanito\"]'"
      ]
     },
     "execution_count": 124,
     "metadata": {},
     "output_type": "execute_result"
    }
   ],
   "source": [
    "(getUsers())"
   ]
  },
  {
   "cell_type": "code",
   "execution_count": 106,
   "metadata": {},
   "outputs": [],
   "source": [
    "def getChats():\n",
    "    all_chats=dumps(coll.find().distinct(\"text\")[0:])\n",
    "    return all_chats"
   ]
  },
  {
   "cell_type": "code",
   "execution_count": 107,
   "metadata": {},
   "outputs": [
    {
     "data": {
      "text/plain": [
       "'[\"Hey Mike, whats up??\", \"Dude!!! \\\\ud83d\\\\ude00\\\\ufe0f Did you watch the game last night?\", \"No, had to work. How was it?\", \"Awesome! Boyander scored 3 goals!\", \"No way! \\\\ud83d\\\\ude2e\\\\ufe0f\", \"Way...\", \"I bet people went crazy\", \"For sure. We stayed at KuboLoco until 6AM.\", \"Motherfucker! Hungover? \\\\ud83d\\\\ude35\\\\ufe0f\", \"Dead, burried and still suffering! \\\\ud83e\\\\udd2e\\\\ufe0f\", \"Im so angry right now!\", \"I saw you this morning. You shouldnt get so upset. \\\\u2764\\\\ufe0f\", \"Impossible! Cant do it! Just cant! He pissed me off so much.\", \"Dont get so frustrated, Leia. Remember what German said.\", \"But how am I suposed to fix the facial recognition system if it doesnt even work?\", \"Im sure you will find a way.\", \"And who the hell is Tony? \\\\ud83e\\\\udd2f\\\\ufe0f\", \"I am Iron Man\", \"Oh shit. I think youre friends with my brother.\", \"Uh-Oh. Better fix that quickly.\", \"Sweety pie! How Ive longed to talk to you.\", \"Not again, Michael.... \\\\ud83d\\\\ude12\\\\ufe0f\", \"Its Mike, honey bunny. Or doctor LOVE! And youre a sick little girl.\", \"Im gonna report you to Human Resources again, Michael.\", \"Cant handle me on your own?\", \"Id rather have a fucking alien crawling out of my ass\", \"That would be hot... \\\\ud83d\\\\udd25\\\\ufe0f\", \"Ok, youve got to stop drinking! Im calling HR.\", \"I NEED VODKA LIKE A CAR NEEDS GAS\", \"Dude... Alcoholics Anonymous: https://www.aa.org\", \"I want pictures of Spiderman and I want them now!\", \"Sure, boss.\", \"Youve got to take me seriously.\", \"I do! I just dont feel appreciated in my job\", \"Thats why youve got to get those damm pictures!!\", \"I dunno...\", \"Get the god damn motherfucking fuckity fuck bloody ballsack pictures\", \"Maybe\", \"Youve got to! And I believe in you\", \"Thank you, boss! I feel much better...\", \"REDRUM\", \"What was that?\", \"REDRUM REDRUM REDRUM\", \"Did you mean red room? Id love a red room.\", \"Murder, bro, cold blooded splashy murderous fun\", \"Chill out, pinky.. Its such a nice day\", \"A nice day to create havoc!\", \"Ill go for a walk in the park, I guess. Maybe fishing\", \"Fishing sounds good. What about the labyrinth?\", \"No! That places creeps me out..\"]'"
      ]
     },
     "execution_count": 107,
     "metadata": {},
     "output_type": "execute_result"
    }
   ],
   "source": [
    "(getChats())"
   ]
  },
  {
   "cell_type": "code",
   "execution_count": 131,
   "metadata": {},
   "outputs": [],
   "source": [
    "#sacar chats que quiero\n",
    "def chatsWant(x,y):\n",
    "    chats_want= []\n",
    "    for a in range(x,y):\n",
    "        chats_want.append(dumps(coll.find({\"idChat\":a},{\"userName\":1,\"text\":1})))\n",
    "    return chats_want"
   ]
  },
  {
   "cell_type": "code",
   "execution_count": 132,
   "metadata": {},
   "outputs": [
    {
     "data": {
      "text/plain": [
       "['[{\"_id\": {\"$oid\": \"5de2976c7a9fb0b9678bea7d\"}, \"userName\": \"John Wick\", \"text\": \"Hey Mike, whats up??\"}, {\"_id\": {\"$oid\": \"5de2976c7a9fb0b9678bea7e\"}, \"userName\": \"Mike Wazowski\", \"text\": \"Dude!!! \\\\ud83d\\\\ude00\\\\ufe0f Did you watch the game last night?\"}, {\"_id\": {\"$oid\": \"5de2976c7a9fb0b9678bea7f\"}, \"userName\": \"John Wick\", \"text\": \"No, had to work. How was it?\"}, {\"_id\": {\"$oid\": \"5de2976c7a9fb0b9678bea80\"}, \"userName\": \"Mike Wazowski\", \"text\": \"Awesome! Boyander scored 3 goals!\"}, {\"_id\": {\"$oid\": \"5de2976c7a9fb0b9678bea81\"}, \"userName\": \"John Wick\", \"text\": \"No way! \\\\ud83d\\\\ude2e\\\\ufe0f\"}, {\"_id\": {\"$oid\": \"5de2976c7a9fb0b9678bea82\"}, \"userName\": \"Mike Wazowski\", \"text\": \"Way...\"}, {\"_id\": {\"$oid\": \"5de2976c7a9fb0b9678bea83\"}, \"userName\": \"John Wick\", \"text\": \"I bet people went crazy\"}, {\"_id\": {\"$oid\": \"5de2976c7a9fb0b9678bea84\"}, \"userName\": \"Mike Wazowski\", \"text\": \"For sure. We stayed at KuboLoco until 6AM.\"}, {\"_id\": {\"$oid\": \"5de2976c7a9fb0b9678bea85\"}, \"userName\": \"John Wick\", \"text\": \"Motherfucker! Hungover? \\\\ud83d\\\\ude35\\\\ufe0f\"}, {\"_id\": {\"$oid\": \"5de2976c7a9fb0b9678bea86\"}, \"userName\": \"Mike Wazowski\", \"text\": \"Dead, burried and still suffering! \\\\ud83e\\\\udd2e\\\\ufe0f\"}]']"
      ]
     },
     "execution_count": 132,
     "metadata": {},
     "output_type": "execute_result"
    }
   ],
   "source": [
    "(chatsWant(0,1))"
   ]
  },
  {
   "cell_type": "code",
   "execution_count": 36,
   "metadata": {},
   "outputs": [],
   "source": [
    "# crear sentimiento de todo el texto\n",
    "def sentimentalltext():\n",
    "    sentiment = {}\n",
    "    sentimental =dumps(coll.find({},{\"text\":1}))\n",
    "    sentiment[\"analysis\"]=TextBlob(sentimental).sentiment\n",
    "    return sentiment\n",
    "   \n",
    "    \n"
   ]
  },
  {
   "cell_type": "code",
   "execution_count": 42,
   "metadata": {},
   "outputs": [
    {
     "data": {
      "text/plain": [
       "{'analysis': Sentiment(polarity=-0.43707142857142856, subjectivity=0.8268035714285715)}"
      ]
     },
     "execution_count": 42,
     "metadata": {},
     "output_type": "execute_result"
    }
   ],
   "source": [
    "sentimentalltext()"
   ]
  },
  {
   "cell_type": "code",
   "execution_count": 166,
   "metadata": {},
   "outputs": [],
   "source": [
    "# crear analisis de sentimiento por idChat para analizar cada chat por separado\n",
    "def sentimentchat(x):\n",
    "    sentitext = {}\n",
    "    sentitext_want = []\n",
    "    for a in range(x):\n",
    "        sentitext_want.append(dumps(coll.find({\"idChat\":x},{\"text\":1, \"idChat\":1})))\n",
    "        sentitext[\"analyze\"]=TextBlob(str(sentitext_want)).sentiment\n",
    "    return sentitext"
   ]
  },
  {
   "cell_type": "code",
   "execution_count": 167,
   "metadata": {},
   "outputs": [
    {
     "data": {
      "text/plain": [
       "{'analyze': Sentiment(polarity=-0.07892628205128203, subjectivity=0.9098290598290598)}"
      ]
     },
     "execution_count": 167,
     "metadata": {},
     "output_type": "execute_result"
    }
   ],
   "source": [
    "sentimentchat(3)"
   ]
  },
  {
   "cell_type": "code",
   "execution_count": 168,
   "metadata": {},
   "outputs": [],
   "source": [
    "# crear analisis de sentimiento por idChat para analizar cada chat por separado y usuario separados\n",
    "def sentimentuser(x,y):\n",
    "    sentitextuser= {}\n",
    "    sentitext_user = []\n",
    "    for a in range(x,y):\n",
    "        sentitext_user.append(dumps(coll.find({\"idChat\":x, \"idUser\":y},{\"text\":1,\"idChat\":1, \"userName\":1})))\n",
    "        sentitextuser[\"user\"]=TextBlob(str(sentitext_user)).sentiment\n",
    "    return sentitextuser\n"
   ]
  },
  {
   "cell_type": "code",
   "execution_count": 169,
   "metadata": {},
   "outputs": [
    {
     "data": {
      "text/plain": [
       "{'user': Sentiment(polarity=-0.315, subjectivity=0.7755555555555557)}"
      ]
     },
     "execution_count": 169,
     "metadata": {},
     "output_type": "execute_result"
    }
   ],
   "source": [
    "sentimentuser(0,1)"
   ]
  },
  {
   "cell_type": "code",
   "execution_count": 162,
   "metadata": {},
   "outputs": [],
   "source": [
    "def createMessage(chat_id):\n",
    "    database,collection  = connectCollection('chats','chateo')\n",
    "    regis = list(collection.aggregate([{'$project':{'userName':1, 'idUser':1,'_id':0}}]))\n",
    "    name = \"Tony\" #str(request.forms.get(\"name\"))\n",
    "    message = \"que pasa chavales\"#str(request.forms.get(\"message\"))\n",
    "    new_id = coll.distinct(\"idMessage\")[-1] + 1\n",
    "    new_message = {\n",
    "        \"idUser\":0,\n",
    "        \"userName\": name,\n",
    "        \"idChat\": int(chat_id),\n",
    "        \"idMessage\":new_id,\n",
    "        \"text\" : message\n",
    "    }\n",
    "    print(regis)\n",
    "    for i in range(len(regis)):\n",
    "        if regis[i].get('userName')==name:\n",
    "            new_message['idUser'] = regis[i]['idUser']\n",
    "            print(regis[i]['userName'])\n",
    "            new_message['userName']=name\n",
    "        else:\n",
    "            new_message['idUser'] = collection.distinct(\"idUser\")[-1] +1\n",
    "            new_message['userName'] = name\n",
    "            \n",
    "    coll.insert_one(new_message)"
   ]
  },
  {
   "cell_type": "code",
   "execution_count": 163,
   "metadata": {},
   "outputs": [
    {
     "name": "stdout",
     "output_type": "stream",
     "text": [
      "[{'idUser': 0, 'userName': 'John Wick'}, {'idUser': 1, 'userName': 'Mike Wazowski'}, {'idUser': 0, 'userName': 'John Wick'}, {'idUser': 1, 'userName': 'Mike Wazowski'}, {'idUser': 0, 'userName': 'John Wick'}, {'idUser': 1, 'userName': 'Mike Wazowski'}, {'idUser': 0, 'userName': 'John Wick'}, {'idUser': 1, 'userName': 'Mike Wazowski'}, {'idUser': 0, 'userName': 'John Wick'}, {'idUser': 1, 'userName': 'Mike Wazowski'}, {'idUser': 2, 'userName': 'Leia Organa'}, {'idUser': 3, 'userName': 'Tony Stark'}, {'idUser': 2, 'userName': 'Leia Organa'}, {'idUser': 3, 'userName': 'Tony Stark'}, {'idUser': 2, 'userName': 'Leia Organa'}, {'idUser': 3, 'userName': 'Tony Stark'}, {'idUser': 2, 'userName': 'Leia Organa'}, {'idUser': 3, 'userName': 'Tony Stark'}, {'idUser': 2, 'userName': 'Leia Organa'}, {'idUser': 3, 'userName': 'Tony Stark'}, {'idUser': 1, 'userName': 'Mike Wazowski'}, {'idUser': 4, 'userName': 'Ellen Ripley'}, {'idUser': 1, 'userName': 'Mike Wazowski'}, {'idUser': 4, 'userName': 'Ellen Ripley'}, {'idUser': 1, 'userName': 'Mike Wazowski'}, {'idUser': 4, 'userName': 'Ellen Ripley'}, {'idUser': 1, 'userName': 'Mike Wazowski'}, {'idUser': 4, 'userName': 'Ellen Ripley'}, {'idUser': 1, 'userName': 'Mike Wazowski'}, {'idUser': 4, 'userName': 'Ellen Ripley'}, {'idUser': 5, 'userName': 'J. Jonah Jameson'}, {'idUser': 0, 'userName': 'John Wick'}, {'idUser': 5, 'userName': 'J. Jonah Jameson'}, {'idUser': 0, 'userName': 'John Wick'}, {'idUser': 5, 'userName': 'J. Jonah Jameson'}, {'idUser': 0, 'userName': 'John Wick'}, {'idUser': 5, 'userName': 'J. Jonah Jameson'}, {'idUser': 0, 'userName': 'John Wick'}, {'idUser': 5, 'userName': 'J. Jonah Jameson'}, {'idUser': 0, 'userName': 'John Wick'}, {'idUser': 6, 'userName': 'Danny Torrances Finger'}, {'idUser': 7, 'userName': 'Danny Torrance'}, {'idUser': 6, 'userName': 'Danny Torrances Finger'}, {'idUser': 7, 'userName': 'Danny Torrance'}, {'idUser': 6, 'userName': 'Danny Torrances Finger'}, {'idUser': 7, 'userName': 'Danny Torrance'}, {'idUser': 6, 'userName': 'Danny Torrances Finger'}, {'idUser': 7, 'userName': 'Danny Torrance'}, {'idUser': 6, 'userName': 'Danny Torrances Finger'}, {'idUser': 7, 'userName': 'Danny Torrance'}, {'idUser': 8, 'userName': 'pepito'}, {'idUser': 9, 'userName': 'juanito'}, {}]\n"
     ]
    }
   ],
   "source": [
    "createMessage(1)"
   ]
  },
  {
   "cell_type": "code",
   "execution_count": 193,
   "metadata": {},
   "outputs": [
    {
     "name": "stderr",
     "output_type": "stream",
     "text": [
      "[nltk_data] Downloading package vader_lexicon to\n",
      "[nltk_data]     /home/javier/nltk_data...\n",
      "[nltk_data]   Package vader_lexicon is already up-to-date!\n"
     ]
    }
   ],
   "source": [
    "# analizar con nltk todos los textos\n",
    "\n",
    "import nltk # install nltk\n",
    "from nltk.sentiment.vader import SentimentIntensityAnalyzer \n",
    "sid = SentimentIntensityAnalyzer()\n",
    "nltk.download('vader_lexicon')\n",
    "\n",
    "def nltktext():\n",
    "    nltk_sentiment = {}\n",
    "    nltk_sentimental =dumps(coll.find({},{\"text\":1}))\n",
    "    nltk_sentiment[\"nltk_analysis\"]=sid.polarity_scores(nltk_sentimental)\n",
    "    return nltk_sentiment\n",
    "\n",
    "\n"
   ]
  },
  {
   "cell_type": "code",
   "execution_count": 195,
   "metadata": {},
   "outputs": [
    {
     "data": {
      "text/plain": [
       "{'nltk_analysis': {'neg': 0.093,\n",
       "  'neu': 0.833,\n",
       "  'pos': 0.074,\n",
       "  'compound': -0.9483}}"
      ]
     },
     "execution_count": 195,
     "metadata": {},
     "output_type": "execute_result"
    }
   ],
   "source": [
    "nltktext()"
   ]
  },
  {
   "cell_type": "code",
   "execution_count": 200,
   "metadata": {},
   "outputs": [],
   "source": [
    "# analizar por idChat para analizar cada chat por separado con nltk\n",
    "def nltkchat(x):\n",
    "    nltk_sentitext = {}\n",
    "    nltk_sentitext_want = []\n",
    "    for a in range(x):\n",
    "        nltk_sentitext_want.append(dumps(coll.find({\"idChat\":x},{\"text\":1, \"idChat\":1})))\n",
    "        nltk_sentitext[\"analyze\"]=sid.polarity_scores(str(nltk_sentitext_want))\n",
    "    return nltk_sentitext\n"
   ]
  },
  {
   "cell_type": "code",
   "execution_count": 205,
   "metadata": {},
   "outputs": [
    {
     "data": {
      "text/plain": [
       "{'analyze': {'neg': 0.052, 'neu': 0.834, 'pos': 0.114, 'compound': 0.9839}}"
      ]
     },
     "execution_count": 205,
     "metadata": {},
     "output_type": "execute_result"
    }
   ],
   "source": [
    "nltkchat(4)"
   ]
  },
  {
   "cell_type": "code",
   "execution_count": 206,
   "metadata": {},
   "outputs": [],
   "source": [
    "# analizar por idChat para analizar cada chat por separado y usuario con nltk\n",
    "def nltkuser(x,y):\n",
    "    nltk_sentitextuser= {}\n",
    "    nltk_sentitext_user = []\n",
    "    for a in range(x,y):\n",
    "        nltk_sentitext_user.append(dumps(coll.find({\"idChat\":x, \"idUser\":y},{\"text\":1,\"idChat\":1, \"userName\":1})))\n",
    "        nltk_sentitextuser[\"user\"]=sid.polarity_scores(str(nltk_sentitext_user))\n",
    "    return nltk_sentitextuser\n",
    "\n"
   ]
  },
  {
   "cell_type": "code",
   "execution_count": 207,
   "metadata": {},
   "outputs": [
    {
     "data": {
      "text/plain": [
       "{'user': {'neg': 0.055, 'neu': 0.915, 'pos': 0.03, 'compound': -0.453}}"
      ]
     },
     "execution_count": 207,
     "metadata": {},
     "output_type": "execute_result"
    }
   ],
   "source": [
    "nltkuser(0,1)"
   ]
  },
  {
   "cell_type": "code",
   "execution_count": 142,
   "metadata": {},
   "outputs": [],
   "source": [
    "chats =pd.read_json(\"chats.json\", orient = \"records\")"
   ]
  },
  {
   "cell_type": "code",
   "execution_count": null,
   "metadata": {},
   "outputs": [],
   "source": [
    "chats\n"
   ]
  },
  {
   "cell_type": "code",
   "execution_count": null,
   "metadata": {},
   "outputs": [],
   "source": [
    "#para crear otra coleccion que sea de usuarios solo\n",
    "users = chats[[\"idUser\",\"userName\"]]"
   ]
  },
  {
   "cell_type": "code",
   "execution_count": null,
   "metadata": {},
   "outputs": [],
   "source": [
    "users"
   ]
  },
  {
   "cell_type": "code",
   "execution_count": null,
   "metadata": {},
   "outputs": [],
   "source": [
    "users= users.drop_duplicates('userName')"
   ]
  },
  {
   "cell_type": "code",
   "execution_count": null,
   "metadata": {},
   "outputs": [],
   "source": [
    "users"
   ]
  },
  {
   "cell_type": "code",
   "execution_count": null,
   "metadata": {},
   "outputs": [],
   "source": [
    "users =users.to_json(\"users.json\",orient='records')"
   ]
  },
  {
   "cell_type": "code",
   "execution_count": null,
   "metadata": {},
   "outputs": [],
   "source": [
    "# ahora creamos otra coleccion que sea de chats\n",
    "\n",
    "messages = chats[[\"idChat\",\"datetime\",\"text\"]]\n",
    "messages"
   ]
  },
  {
   "cell_type": "code",
   "execution_count": null,
   "metadata": {},
   "outputs": [],
   "source": [
    "messages.to_json(\"messages.json\",orient='records')"
   ]
  },
  {
   "cell_type": "code",
   "execution_count": null,
   "metadata": {},
   "outputs": [],
   "source": [
    "messages"
   ]
  },
  {
   "cell_type": "code",
   "execution_count": null,
   "metadata": {},
   "outputs": [],
   "source": []
  },
  {
   "cell_type": "code",
   "execution_count": null,
   "metadata": {},
   "outputs": [],
   "source": []
  }
 ],
 "metadata": {
  "kernelspec": {
   "display_name": "Python 3",
   "language": "python",
   "name": "python3"
  },
  "language_info": {
   "codemirror_mode": {
    "name": "ipython",
    "version": 3
   },
   "file_extension": ".py",
   "mimetype": "text/x-python",
   "name": "python",
   "nbconvert_exporter": "python",
   "pygments_lexer": "ipython3",
   "version": "3.7.5rc1"
  }
 },
 "nbformat": 4,
 "nbformat_minor": 2
}
